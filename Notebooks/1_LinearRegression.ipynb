{
 "cells": [
  {
   "cell_type": "markdown",
   "metadata": {},
   "source": [
    "# Linear Regression"
   ]
  },
  {
   "cell_type": "markdown",
   "metadata": {},
   "source": [
    "Created by Dr. Lei Qian, Meharry Medical College"
   ]
  },
  {
   "cell_type": "markdown",
   "metadata": {},
   "source": [
    "### Simple Linear Regression"
   ]
  },
  {
   "cell_type": "markdown",
   "metadata": {},
   "source": [
    "### Read data from CSV file\n",
    "\n",
    "The first step is to get data from a file. The most common format of data files is CSV files. CSV is a simple file format used to store tabular data, such as a spreadsheet. CSV files are text files. The fields of data in each row are delimited with a comma, space or tab ('\\t') and individual rows are separated by a newline. There are many programs in Python that can read CSV files. Here we use read_csv function in Pandas package to do so. \n",
    "\n",
    "Pandas is a data processing and analysis tools for the Python programming language, which is often used with Numpy."
   ]
  },
  {
   "cell_type": "code",
   "execution_count": 3,
   "metadata": {},
   "outputs": [],
   "source": [
    "import numpy as np\n",
    "import pandas as pd\n",
    "import matplotlib.pyplot as plt"
   ]
  },
  {
   "cell_type": "code",
   "execution_count": 4,
   "metadata": {},
   "outputs": [],
   "source": [
    "#?pd.read_csv"
   ]
  },
  {
   "cell_type": "markdown",
   "metadata": {},
   "source": [
    "slr01.csv contains the data of list price vs best price for a new GMC pickup. \n",
    "\n",
    "* X = List price (in \\$1000)\n",
    "* Y = Best price (in \\$1000) \n",
    "\n",
    "The description for datasets and more data can be found [here](https://college.cengage.com/mathematics/brase/understandable_statistics/7e/students/datasets/slr/frames/frame.html)"
   ]
  },
  {
   "cell_type": "code",
   "execution_count": 15,
   "metadata": {},
   "outputs": [
    {
     "data": {
      "text/html": [
       "<div>\n",
       "<style scoped>\n",
       "    .dataframe tbody tr th:only-of-type {\n",
       "        vertical-align: middle;\n",
       "    }\n",
       "\n",
       "    .dataframe tbody tr th {\n",
       "        vertical-align: top;\n",
       "    }\n",
       "\n",
       "    .dataframe thead th {\n",
       "        text-align: right;\n",
       "    }\n",
       "</style>\n",
       "<table border=\"1\" class=\"dataframe\">\n",
       "  <thead>\n",
       "    <tr style=\"text-align: right;\">\n",
       "      <th></th>\n",
       "      <th>X</th>\n",
       "      <th>Y</th>\n",
       "    </tr>\n",
       "  </thead>\n",
       "  <tbody>\n",
       "    <tr>\n",
       "      <th>0</th>\n",
       "      <td>0.170</td>\n",
       "      <td>0.63</td>\n",
       "    </tr>\n",
       "    <tr>\n",
       "      <th>1</th>\n",
       "      <td>0.190</td>\n",
       "      <td>0.70</td>\n",
       "    </tr>\n",
       "    <tr>\n",
       "      <th>2</th>\n",
       "      <td>0.220</td>\n",
       "      <td>0.82</td>\n",
       "    </tr>\n",
       "    <tr>\n",
       "      <th>3</th>\n",
       "      <td>0.235</td>\n",
       "      <td>0.88</td>\n",
       "    </tr>\n",
       "    <tr>\n",
       "      <th>4</th>\n",
       "      <td>0.235</td>\n",
       "      <td>1.15</td>\n",
       "    </tr>\n",
       "  </tbody>\n",
       "</table>\n",
       "</div>"
      ],
      "text/plain": [
       "       X     Y\n",
       "0  0.170  0.63\n",
       "1  0.190  0.70\n",
       "2  0.220  0.82\n",
       "3  0.235  0.88\n",
       "4  0.235  1.15"
      ]
     },
     "execution_count": 15,
     "metadata": {},
     "output_type": "execute_result"
    }
   ],
   "source": [
    "url = 'https://raw.githubusercontent.com/lei-qian/NDSAWS24/refs/heads/main/Notebooks/data/slr03.csv'\n",
    "#df = pd.read_csv(url)\n",
    "df = pd.read_csv(url, sep=',', header=0, skiprows=2)\n",
    "df.head() #show the first few records"
   ]
  },
  {
   "cell_type": "markdown",
   "metadata": {},
   "source": [
    "Pandas read the data files and save them in a data type called \"DataFrame\". It needs to be converted to numpy array so that we can use it in Numpy.  "
   ]
  },
  {
   "cell_type": "code",
   "execution_count": 26,
   "metadata": {},
   "outputs": [
    {
     "name": "stdout",
     "output_type": "stream",
     "text": [
      "(23, 2)\n",
      "[[12.39999962 11.19999981]\n",
      " [14.30000019 12.5       ]\n",
      " [14.5        12.69999981]\n",
      " [14.89999962 13.10000038]\n",
      " [16.10000038 14.10000038]\n",
      " [16.89999962 14.80000019]\n",
      " [16.5        14.39999962]\n",
      " [15.39999962 13.39999962]\n",
      " [17.         14.89999962]\n",
      " [17.89999962 15.60000038]\n",
      " [18.79999924 16.39999962]\n",
      " [20.29999924 17.70000076]\n",
      " [22.39999962 19.60000038]\n",
      " [19.39999962 16.89999962]\n",
      " [15.5        14.        ]\n",
      " [16.70000076 14.60000038]\n",
      " [17.29999924 15.10000038]\n",
      " [18.39999962 16.10000038]\n",
      " [19.20000076 16.79999924]\n",
      " [17.39999962 15.19999981]\n",
      " [19.5        17.        ]\n",
      " [19.70000076 17.20000076]\n",
      " [21.20000076 18.60000038]]\n"
     ]
    }
   ],
   "source": [
    "data = df.values\n",
    "print(data.shape)\n",
    "print(data) #print the first 5 records of the dataset"
   ]
  },
  {
   "cell_type": "markdown",
   "metadata": {},
   "source": [
    "Now we use the formula in the class to perform linear regression. Remember the following formulas:\n",
    "\n",
    "* $s_{xy} = \\frac{\\Sigma_{i=1}^n (x_i-\\overline{x})(y_i-\\overline{y})}{n}$. The covariance of X and Y.\n",
    "* $s_x^2 = \\frac{\\Sigma_{i=1}^n (x_i-\\overline{x})^2}{n}$. The variance of X. \n",
    "* $b_1=\\frac{s_{xy}}{s_x^2}$. Slope\n",
    "* $b_0=\\overline{y}-b_1\\overline{x}$. y-intercept"
   ]
  },
  {
   "cell_type": "code",
   "execution_count": 28,
   "metadata": {},
   "outputs": [
    {
     "name": "stdout",
     "output_type": "stream",
     "text": [
      "(23,)\n",
      "[12.39999962 14.30000019 14.5        14.89999962 16.10000038 16.89999962\n",
      " 16.5        15.39999962 17.         17.89999962 18.79999924 20.29999924\n",
      " 22.39999962 19.39999962 15.5        16.70000076 17.29999924 18.39999962\n",
      " 19.20000076 17.39999962 19.5        19.70000076 21.20000076]\n",
      "[[5.82691717 4.95954581]\n",
      " [4.95954581 4.23363684]]\n",
      "23\n"
     ]
    }
   ],
   "source": [
    "X = data[:, 0]\n",
    "Y = data[:, 1]\n",
    "print(X.shape)\n",
    "print(X)\n",
    "n = data.shape[0]\n",
    "covm = np.cov(X, Y) #calculate covarance between X and Y\n",
    "print(covm)\n",
    "print(n)"
   ]
  },
  {
   "cell_type": "markdown",
   "metadata": {},
   "source": [
    "**np.cov(X, Y)** function calculates covariance between X and Y. In this case, we get a 2X2 matrix. They are cov(X,X) (which is indeed $s_x^2$, the variance of X), cov(X,Y), cov(Y,X) (which is equal to cov(X,Y)) and cov(Y,Y). "
   ]
  },
  {
   "cell_type": "code",
   "execution_count": 29,
   "metadata": {},
   "outputs": [],
   "source": [
    "sxy = covm[0,1] #covariance of X and Y\n",
    "sx2 = covm[0,0] #variance of X \n",
    "sy2 = covm[1,1] #variance of Y"
   ]
  },
  {
   "cell_type": "code",
   "execution_count": 32,
   "metadata": {},
   "outputs": [
    {
     "data": {
      "text/plain": [
       "0.8511440378638506"
      ]
     },
     "execution_count": 32,
     "metadata": {},
     "output_type": "execute_result"
    }
   ],
   "source": [
    "b1 = sxy/sx2\n",
    "b1"
   ]
  },
  {
   "cell_type": "code",
   "execution_count": 8,
   "metadata": {},
   "outputs": [],
   "source": [
    "xbar = X.mean() #mean function calculate the average of an array\n",
    "ybar = Y.mean()"
   ]
  },
  {
   "cell_type": "code",
   "execution_count": 33,
   "metadata": {},
   "outputs": [],
   "source": [
    "b0 = ybar - b1*xbar"
   ]
  },
  {
   "cell_type": "code",
   "execution_count": 34,
   "metadata": {},
   "outputs": [
    {
     "name": "stdout",
     "output_type": "stream",
     "text": [
      "slope= 0.8511440378638506\n",
      "interception= 0.43458449082531025\n"
     ]
    }
   ],
   "source": [
    "print(\"slope=\",b1)\n",
    "print(\"interception=\", b0)"
   ]
  },
  {
   "cell_type": "code",
   "execution_count": 36,
   "metadata": {},
   "outputs": [
    {
     "name": "stdout",
     "output_type": "stream",
     "text": [
      "r= 0.9985404972960461\n",
      "sse= 0.2840267824975564\n",
      "se= 0.11112601200156523\n"
     ]
    }
   ],
   "source": [
    "r = sxy/np.sqrt(sx2*sy2)\n",
    "sse = n*(sy2 - sxy*sxy/sx2)\n",
    "se = np.sqrt(sse/n)\n",
    "print(\"r=\",r)\n",
    "print(\"sse=\", sse)\n",
    "print(\"se=\", se)"
   ]
  },
  {
   "cell_type": "markdown",
   "metadata": {},
   "source": [
    "Now we draw the data through matplotlib"
   ]
  },
  {
   "cell_type": "code",
   "execution_count": 37,
   "metadata": {},
   "outputs": [],
   "source": [
    "def plotSLR(X, Y, b0, b1):\n",
    "#plot points in X, Y and draw a line with slop b1 and interception b0\n",
    "    x0 = X.min()-0.1\n",
    "    x1 = X.max()+0.1\n",
    "\n",
    "    plt.plot(X, Y, 'ko')\n",
    "    plt.plot((x0, x1), (x0*b1+b0, x1*b1+b0), \"b-\")\n",
    "    plt.show()"
   ]
  },
  {
   "cell_type": "code",
   "execution_count": 38,
   "metadata": {},
   "outputs": [
    {
     "data": {
      "image/png": "[encoded data removed]",
      "text/plain": [
       "<Figure size 432x288 with 1 Axes>"
      ]
     },
     "metadata": {
      "needs_background": "light"
     },
     "output_type": "display_data"
    }
   ],
   "source": [
    "plotSLR(X, Y, b0, b1)"
   ]
  },
  {
   "cell_type": "markdown",
   "metadata": {},
   "source": [
    "### Solve Linear Equation through *lineregress* function"
   ]
  },
  {
   "cell_type": "markdown",
   "metadata": {},
   "source": [
    "scipy.stats package has a function linregress function that can do simple linear regression conveniently."
   ]
  },
  {
   "cell_type": "code",
   "execution_count": 39,
   "metadata": {},
   "outputs": [],
   "source": [
    "from scipy.stats import linregress"
   ]
  },
  {
   "cell_type": "code",
   "execution_count": 15,
   "metadata": {},
   "outputs": [
    {
     "name": "stdout",
     "output_type": "stream",
     "text": [
      "slope= 0.8511440378638505\n",
      "interception= 0.43458449082531203\n",
      "r= 0.9985404972960459\n"
     ]
    }
   ],
   "source": [
    "(b1, b0, r, p, stderr) = linregress(X,Y)\n",
    "print(\"slope=\",b1)\n",
    "print(\"interception=\", b0)\n",
    "print(\"r=\", r)"
   ]
  },
  {
   "cell_type": "markdown",
   "metadata": {},
   "source": [
    "## Multiple Linear Regression"
   ]
  },
  {
   "cell_type": "markdown",
   "metadata": {},
   "source": [
    "### Read a multiple linear regression data set"
   ]
  },
  {
   "cell_type": "markdown",
   "metadata": {},
   "source": [
    "mlr01.csv is a dataset of Thunder Basin antelope study. The data (X1, X2, X3, X4) are for each year:\n",
    "\n",
    "* X1 = spring fawn count/100\n",
    "* X2 = size of adult antelope population/100\n",
    "* X3 = annual precipitation (inches)\n",
    "* X4 = winter severity index (1=mild, 5=severe)\n",
    "\n",
    "Dataset description can be found [here](https://college.cengage.com/mathematics/brase/understandable_statistics/7e/students/datasets/mlr/frames/frame.html)"
   ]
  },
  {
   "cell_type": "code",
   "execution_count": 40,
   "metadata": {},
   "outputs": [
    {
     "data": {
      "text/html": [
       "<div>\n",
       "<style scoped>\n",
       "    .dataframe tbody tr th:only-of-type {\n",
       "        vertical-align: middle;\n",
       "    }\n",
       "\n",
       "    .dataframe tbody tr th {\n",
       "        vertical-align: top;\n",
       "    }\n",
       "\n",
       "    .dataframe thead th {\n",
       "        text-align: right;\n",
       "    }\n",
       "</style>\n",
       "<table border=\"1\" class=\"dataframe\">\n",
       "  <thead>\n",
       "    <tr style=\"text-align: right;\">\n",
       "      <th></th>\n",
       "      <th>X1</th>\n",
       "      <th>X2</th>\n",
       "      <th>X3</th>\n",
       "      <th>X4</th>\n",
       "    </tr>\n",
       "  </thead>\n",
       "  <tbody>\n",
       "    <tr>\n",
       "      <th>0</th>\n",
       "      <td>2.9</td>\n",
       "      <td>9.2</td>\n",
       "      <td>13.2</td>\n",
       "      <td>2</td>\n",
       "    </tr>\n",
       "    <tr>\n",
       "      <th>1</th>\n",
       "      <td>2.4</td>\n",
       "      <td>8.7</td>\n",
       "      <td>11.5</td>\n",
       "      <td>3</td>\n",
       "    </tr>\n",
       "    <tr>\n",
       "      <th>2</th>\n",
       "      <td>2.0</td>\n",
       "      <td>7.2</td>\n",
       "      <td>10.8</td>\n",
       "      <td>4</td>\n",
       "    </tr>\n",
       "    <tr>\n",
       "      <th>3</th>\n",
       "      <td>2.3</td>\n",
       "      <td>8.5</td>\n",
       "      <td>12.3</td>\n",
       "      <td>2</td>\n",
       "    </tr>\n",
       "    <tr>\n",
       "      <th>4</th>\n",
       "      <td>3.2</td>\n",
       "      <td>9.6</td>\n",
       "      <td>12.6</td>\n",
       "      <td>3</td>\n",
       "    </tr>\n",
       "  </tbody>\n",
       "</table>\n",
       "</div>"
      ],
      "text/plain": [
       "    X1   X2    X3  X4\n",
       "0  2.9  9.2  13.2   2\n",
       "1  2.4  8.7  11.5   3\n",
       "2  2.0  7.2  10.8   4\n",
       "3  2.3  8.5  12.3   2\n",
       "4  3.2  9.6  12.6   3"
      ]
     },
     "execution_count": 40,
     "metadata": {},
     "output_type": "execute_result"
    }
   ],
   "source": [
    "url = 'https://raw.githubusercontent.com/lei-qian/NDSAWS24/refs/heads/main/Notebooks/data/mlr01.csv'\n",
    "df = pd.read_csv(url)\n",
    "#df = pd.read_excel(\"data/mlr02.xls\")\n",
    "df.head()"
   ]
  },
  {
   "cell_type": "code",
   "execution_count": 41,
   "metadata": {},
   "outputs": [
    {
     "name": "stdout",
     "output_type": "stream",
     "text": [
      "3 8\n"
     ]
    }
   ],
   "source": [
    "data=df.values\n",
    "X=data[:, 1:]\n",
    "Y=data[:,0]\n",
    "n, m = X.shape\n",
    "print(m,n)"
   ]
  },
  {
   "cell_type": "code",
   "execution_count": 19,
   "metadata": {},
   "outputs": [
    {
     "name": "stdout",
     "output_type": "stream",
     "text": [
      "[[ 1.          9.19999981 13.19999981  2.        ]\n",
      " [ 1.          8.69999981 11.5         3.        ]\n",
      " [ 1.          7.19999981 10.80000019  4.        ]\n",
      " [ 1.          8.5        12.30000019  2.        ]\n",
      " [ 1.          9.6        12.60000038  3.        ]\n",
      " [ 1.          6.80000019 10.60000038  5.        ]\n",
      " [ 1.          9.69999981 14.10000038  1.        ]\n",
      " [ 1.          7.9000001  11.19999981  3.        ]]\n"
     ]
    }
   ],
   "source": [
    "#insert a column of constant 1  \n",
    "X1 = np.hstack((np.ones((n,1)), X))\n",
    "print(X1)"
   ]
  },
  {
   "cell_type": "code",
   "execution_count": 42,
   "metadata": {},
   "outputs": [
    {
     "name": "stdout",
     "output_type": "stream",
     "text": [
      "[-5.92201143  0.33821753  0.40150391  0.26294607]\n"
     ]
    }
   ],
   "source": [
    "b = np.linalg.inv(X1.T@X1)@X1.T@Y\n",
    "print(b)"
   ]
  },
  {
   "cell_type": "code",
   "execution_count": 43,
   "metadata": {},
   "outputs": [],
   "source": [
    "Yhat = X1@b\n",
    "E = Y-Yhat\n",
    "sse = E.T@E\n",
    "sst = Y.var()*n\n",
    "r2 = 1-sse/sst"
   ]
  },
  {
   "cell_type": "code",
   "execution_count": 44,
   "metadata": {},
   "outputs": [
    {
     "name": "stdout",
     "output_type": "stream",
     "text": [
      "sse= 0.058493894150582856\n",
      "sst= 2.275000410900039\n",
      "r2 = 0.9742884028194785\n",
      "r= 0.98706048589713\n"
     ]
    }
   ],
   "source": [
    "print(\"sse=\",sse)\n",
    "print(\"sst=\",sst)\n",
    "print(\"r2 =\",r2)\n",
    "print(\"r=\",np.sqrt(r2))"
   ]
  },
  {
   "cell_type": "markdown",
   "metadata": {},
   "source": [
    "Scikit Learng package has a linear_model that can perform multiple linear regression. "
   ]
  },
  {
   "cell_type": "code",
   "execution_count": 23,
   "metadata": {},
   "outputs": [
    {
     "name": "stdout",
     "output_type": "stream",
     "text": [
      "Coefficient =  [0.33821753 0.40150391 0.26294607]\n",
      "Intercept =  -5.922011430884168\n",
      "R square =  0.9742884028194787\n"
     ]
    }
   ],
   "source": [
    "from sklearn import linear_model\n",
    "model = linear_model.LinearRegression()\n",
    "model.fit(X, Y)\n",
    "print(\"Coefficient = \", model.coef_)\n",
    "print(\"Intercept = \", model.intercept_)\n",
    "print(\"R square = \", model.score(X, Y))"
   ]
  }
 ],
 "metadata": {
  "kernelspec": {
   "display_name": "Python 3",
   "language": "python",
   "name": "python3"
  },
  "language_info": {
   "codemirror_mode": {
    "name": "ipython",
    "version": 3
   },
   "file_extension": ".py",
   "mimetype": "text/x-python",
   "name": "python",
   "nbconvert_exporter": "python",
   "pygments_lexer": "ipython3",
   "version": "3.11.7"
  }
 },
 "nbformat": 4,
 "nbformat_minor": 2
}
